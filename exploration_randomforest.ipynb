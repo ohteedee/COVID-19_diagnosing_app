{
 "cells": [
  {
   "cell_type": "code",
   "execution_count": 1,
   "id": "d6ad66a1-4d13-461b-899f-8d86cae32a11",
   "metadata": {},
   "outputs": [],
   "source": [
    "import pandas as pd\n",
    "import numpy as np\n",
    "import matplotlib.pyplot as plt\n",
    "import seaborn as sns\n",
    "import pickle"
   ]
  },
  {
   "cell_type": "code",
   "execution_count": 2,
   "id": "18274472-20df-49ad-9fed-642c99f6b203",
   "metadata": {},
   "outputs": [],
   "source": [
    "# Spice_projects/week_11_final_project/tryout\n",
    "\n"
   ]
  },
  {
   "cell_type": "code",
   "execution_count": 3,
   "id": "64b72a1f-c297-47ef-9e00-ca29a28b0562",
   "metadata": {},
   "outputs": [
    {
     "name": "stderr",
     "output_type": "stream",
     "text": [
      "/Users/tosinoyewale/opt/anaconda3/lib/python3.8/site-packages/IPython/core/interactiveshell.py:3165: DtypeWarning: Columns (7) have mixed types.Specify dtype option on import or set low_memory=False.\n",
      "  has_raised = await self.run_ast_nodes(code_ast.body, cell_name,\n"
     ]
    }
   ],
   "source": [
    "large_symptoms_df = pd.read_csv('corona_tested_individuals_ver_0083_english.csv',dtype={'corona_result': 'str'}, parse_dates=True )\n"
   ]
  },
  {
   "cell_type": "code",
   "execution_count": 4,
   "id": "00533eba-c710-4b72-8dda-531a0081e041",
   "metadata": {},
   "outputs": [
    {
     "data": {
      "text/html": [
       "<div>\n",
       "<style scoped>\n",
       "    .dataframe tbody tr th:only-of-type {\n",
       "        vertical-align: middle;\n",
       "    }\n",
       "\n",
       "    .dataframe tbody tr th {\n",
       "        vertical-align: top;\n",
       "    }\n",
       "\n",
       "    .dataframe thead th {\n",
       "        text-align: right;\n",
       "    }\n",
       "</style>\n",
       "<table border=\"1\" class=\"dataframe\">\n",
       "  <thead>\n",
       "    <tr style=\"text-align: right;\">\n",
       "      <th></th>\n",
       "      <th>test_date</th>\n",
       "      <th>cough</th>\n",
       "      <th>fever</th>\n",
       "      <th>sore_throat</th>\n",
       "      <th>shortness_of_breath</th>\n",
       "      <th>head_ache</th>\n",
       "      <th>corona_result</th>\n",
       "      <th>age_60_and_above</th>\n",
       "      <th>gender</th>\n",
       "      <th>test_indication</th>\n",
       "    </tr>\n",
       "  </thead>\n",
       "  <tbody>\n",
       "    <tr>\n",
       "      <th>0</th>\n",
       "      <td>2020-11-12</td>\n",
       "      <td>0</td>\n",
       "      <td>0</td>\n",
       "      <td>0</td>\n",
       "      <td>0</td>\n",
       "      <td>0</td>\n",
       "      <td>negative</td>\n",
       "      <td>No</td>\n",
       "      <td>male</td>\n",
       "      <td>Other</td>\n",
       "    </tr>\n",
       "    <tr>\n",
       "      <th>1</th>\n",
       "      <td>2020-11-12</td>\n",
       "      <td>0</td>\n",
       "      <td>1</td>\n",
       "      <td>0</td>\n",
       "      <td>0</td>\n",
       "      <td>0</td>\n",
       "      <td>negative</td>\n",
       "      <td>No</td>\n",
       "      <td>male</td>\n",
       "      <td>Other</td>\n",
       "    </tr>\n",
       "    <tr>\n",
       "      <th>2</th>\n",
       "      <td>2020-11-12</td>\n",
       "      <td>0</td>\n",
       "      <td>0</td>\n",
       "      <td>0</td>\n",
       "      <td>0</td>\n",
       "      <td>0</td>\n",
       "      <td>negative</td>\n",
       "      <td>Yes</td>\n",
       "      <td>female</td>\n",
       "      <td>Other</td>\n",
       "    </tr>\n",
       "    <tr>\n",
       "      <th>3</th>\n",
       "      <td>2020-11-12</td>\n",
       "      <td>0</td>\n",
       "      <td>0</td>\n",
       "      <td>0</td>\n",
       "      <td>0</td>\n",
       "      <td>0</td>\n",
       "      <td>negative</td>\n",
       "      <td>No</td>\n",
       "      <td>male</td>\n",
       "      <td>Other</td>\n",
       "    </tr>\n",
       "    <tr>\n",
       "      <th>4</th>\n",
       "      <td>2020-11-12</td>\n",
       "      <td>0</td>\n",
       "      <td>1</td>\n",
       "      <td>0</td>\n",
       "      <td>0</td>\n",
       "      <td>0</td>\n",
       "      <td>negative</td>\n",
       "      <td>No</td>\n",
       "      <td>male</td>\n",
       "      <td>Contact with confirmed</td>\n",
       "    </tr>\n",
       "    <tr>\n",
       "      <th>...</th>\n",
       "      <td>...</td>\n",
       "      <td>...</td>\n",
       "      <td>...</td>\n",
       "      <td>...</td>\n",
       "      <td>...</td>\n",
       "      <td>...</td>\n",
       "      <td>...</td>\n",
       "      <td>...</td>\n",
       "      <td>...</td>\n",
       "      <td>...</td>\n",
       "    </tr>\n",
       "    <tr>\n",
       "      <th>2742591</th>\n",
       "      <td>2020-03-11</td>\n",
       "      <td>0</td>\n",
       "      <td>0</td>\n",
       "      <td>0</td>\n",
       "      <td>0</td>\n",
       "      <td>0</td>\n",
       "      <td>negative</td>\n",
       "      <td>NaN</td>\n",
       "      <td>female</td>\n",
       "      <td>Other</td>\n",
       "    </tr>\n",
       "    <tr>\n",
       "      <th>2742592</th>\n",
       "      <td>2020-03-11</td>\n",
       "      <td>0</td>\n",
       "      <td>0</td>\n",
       "      <td>0</td>\n",
       "      <td>0</td>\n",
       "      <td>0</td>\n",
       "      <td>negative</td>\n",
       "      <td>NaN</td>\n",
       "      <td>female</td>\n",
       "      <td>Other</td>\n",
       "    </tr>\n",
       "    <tr>\n",
       "      <th>2742593</th>\n",
       "      <td>2020-03-11</td>\n",
       "      <td>0</td>\n",
       "      <td>0</td>\n",
       "      <td>0</td>\n",
       "      <td>0</td>\n",
       "      <td>0</td>\n",
       "      <td>other</td>\n",
       "      <td>NaN</td>\n",
       "      <td>male</td>\n",
       "      <td>Other</td>\n",
       "    </tr>\n",
       "    <tr>\n",
       "      <th>2742594</th>\n",
       "      <td>2020-03-11</td>\n",
       "      <td>0</td>\n",
       "      <td>0</td>\n",
       "      <td>0</td>\n",
       "      <td>0</td>\n",
       "      <td>0</td>\n",
       "      <td>negative</td>\n",
       "      <td>NaN</td>\n",
       "      <td>female</td>\n",
       "      <td>Other</td>\n",
       "    </tr>\n",
       "    <tr>\n",
       "      <th>2742595</th>\n",
       "      <td>2020-03-11</td>\n",
       "      <td>0</td>\n",
       "      <td>1</td>\n",
       "      <td>0</td>\n",
       "      <td>0</td>\n",
       "      <td>0</td>\n",
       "      <td>negative</td>\n",
       "      <td>NaN</td>\n",
       "      <td>male</td>\n",
       "      <td>Other</td>\n",
       "    </tr>\n",
       "  </tbody>\n",
       "</table>\n",
       "<p>2742596 rows × 10 columns</p>\n",
       "</div>"
      ],
      "text/plain": [
       "          test_date  cough  fever  sore_throat  shortness_of_breath  \\\n",
       "0        2020-11-12      0      0            0                    0   \n",
       "1        2020-11-12      0      1            0                    0   \n",
       "2        2020-11-12      0      0            0                    0   \n",
       "3        2020-11-12      0      0            0                    0   \n",
       "4        2020-11-12      0      1            0                    0   \n",
       "...             ...    ...    ...          ...                  ...   \n",
       "2742591  2020-03-11      0      0            0                    0   \n",
       "2742592  2020-03-11      0      0            0                    0   \n",
       "2742593  2020-03-11      0      0            0                    0   \n",
       "2742594  2020-03-11      0      0            0                    0   \n",
       "2742595  2020-03-11      0      1            0                    0   \n",
       "\n",
       "         head_ache corona_result age_60_and_above  gender  \\\n",
       "0                0      negative               No    male   \n",
       "1                0      negative               No    male   \n",
       "2                0      negative              Yes  female   \n",
       "3                0      negative               No    male   \n",
       "4                0      negative               No    male   \n",
       "...            ...           ...              ...     ...   \n",
       "2742591          0      negative              NaN  female   \n",
       "2742592          0      negative              NaN  female   \n",
       "2742593          0         other              NaN    male   \n",
       "2742594          0      negative              NaN  female   \n",
       "2742595          0      negative              NaN    male   \n",
       "\n",
       "                test_indication  \n",
       "0                         Other  \n",
       "1                         Other  \n",
       "2                         Other  \n",
       "3                         Other  \n",
       "4        Contact with confirmed  \n",
       "...                         ...  \n",
       "2742591                   Other  \n",
       "2742592                   Other  \n",
       "2742593                   Other  \n",
       "2742594                   Other  \n",
       "2742595                   Other  \n",
       "\n",
       "[2742596 rows x 10 columns]"
      ]
     },
     "execution_count": 4,
     "metadata": {},
     "output_type": "execute_result"
    }
   ],
   "source": [
    "large_symptoms_df"
   ]
  },
  {
   "cell_type": "code",
   "execution_count": null,
   "id": "bfbad32e-7fbf-4b3d-8318-932d8ccb736f",
   "metadata": {},
   "outputs": [],
   "source": [
    "# The data already comes with 0 and 1 but I will like to convert to yes and no. I want it to look like data I will get from a user"
   ]
  },
  {
   "cell_type": "code",
   "execution_count": 7,
   "id": "ec89b276-791e-4541-9447-7a5b406f336c",
   "metadata": {},
   "outputs": [
    {
     "data": {
      "text/html": [
       "<div>\n",
       "<style scoped>\n",
       "    .dataframe tbody tr th:only-of-type {\n",
       "        vertical-align: middle;\n",
       "    }\n",
       "\n",
       "    .dataframe tbody tr th {\n",
       "        vertical-align: top;\n",
       "    }\n",
       "\n",
       "    .dataframe thead th {\n",
       "        text-align: right;\n",
       "    }\n",
       "</style>\n",
       "<table border=\"1\" class=\"dataframe\">\n",
       "  <thead>\n",
       "    <tr style=\"text-align: right;\">\n",
       "      <th></th>\n",
       "      <th>test_date</th>\n",
       "      <th>cough</th>\n",
       "      <th>fever</th>\n",
       "      <th>sore_throat</th>\n",
       "      <th>shortness_of_breath</th>\n",
       "      <th>head_ache</th>\n",
       "      <th>corona_result</th>\n",
       "      <th>age_60_and_above</th>\n",
       "      <th>gender</th>\n",
       "      <th>test_indication</th>\n",
       "    </tr>\n",
       "  </thead>\n",
       "  <tbody>\n",
       "    <tr>\n",
       "      <th>0</th>\n",
       "      <td>2020-11-12</td>\n",
       "      <td>no</td>\n",
       "      <td>no</td>\n",
       "      <td>no</td>\n",
       "      <td>no</td>\n",
       "      <td>no</td>\n",
       "      <td>negative</td>\n",
       "      <td>No</td>\n",
       "      <td>male</td>\n",
       "      <td>Other</td>\n",
       "    </tr>\n",
       "    <tr>\n",
       "      <th>1</th>\n",
       "      <td>2020-11-12</td>\n",
       "      <td>no</td>\n",
       "      <td>1</td>\n",
       "      <td>no</td>\n",
       "      <td>no</td>\n",
       "      <td>no</td>\n",
       "      <td>negative</td>\n",
       "      <td>No</td>\n",
       "      <td>male</td>\n",
       "      <td>Other</td>\n",
       "    </tr>\n",
       "    <tr>\n",
       "      <th>2</th>\n",
       "      <td>2020-11-12</td>\n",
       "      <td>no</td>\n",
       "      <td>no</td>\n",
       "      <td>no</td>\n",
       "      <td>no</td>\n",
       "      <td>no</td>\n",
       "      <td>negative</td>\n",
       "      <td>Yes</td>\n",
       "      <td>female</td>\n",
       "      <td>Other</td>\n",
       "    </tr>\n",
       "    <tr>\n",
       "      <th>3</th>\n",
       "      <td>2020-11-12</td>\n",
       "      <td>no</td>\n",
       "      <td>no</td>\n",
       "      <td>no</td>\n",
       "      <td>no</td>\n",
       "      <td>no</td>\n",
       "      <td>negative</td>\n",
       "      <td>No</td>\n",
       "      <td>male</td>\n",
       "      <td>Other</td>\n",
       "    </tr>\n",
       "    <tr>\n",
       "      <th>4</th>\n",
       "      <td>2020-11-12</td>\n",
       "      <td>no</td>\n",
       "      <td>1</td>\n",
       "      <td>no</td>\n",
       "      <td>no</td>\n",
       "      <td>no</td>\n",
       "      <td>negative</td>\n",
       "      <td>No</td>\n",
       "      <td>male</td>\n",
       "      <td>Contact with confirmed</td>\n",
       "    </tr>\n",
       "    <tr>\n",
       "      <th>...</th>\n",
       "      <td>...</td>\n",
       "      <td>...</td>\n",
       "      <td>...</td>\n",
       "      <td>...</td>\n",
       "      <td>...</td>\n",
       "      <td>...</td>\n",
       "      <td>...</td>\n",
       "      <td>...</td>\n",
       "      <td>...</td>\n",
       "      <td>...</td>\n",
       "    </tr>\n",
       "    <tr>\n",
       "      <th>2742591</th>\n",
       "      <td>2020-03-11</td>\n",
       "      <td>no</td>\n",
       "      <td>no</td>\n",
       "      <td>no</td>\n",
       "      <td>no</td>\n",
       "      <td>no</td>\n",
       "      <td>negative</td>\n",
       "      <td>NaN</td>\n",
       "      <td>female</td>\n",
       "      <td>Other</td>\n",
       "    </tr>\n",
       "    <tr>\n",
       "      <th>2742592</th>\n",
       "      <td>2020-03-11</td>\n",
       "      <td>no</td>\n",
       "      <td>no</td>\n",
       "      <td>no</td>\n",
       "      <td>no</td>\n",
       "      <td>no</td>\n",
       "      <td>negative</td>\n",
       "      <td>NaN</td>\n",
       "      <td>female</td>\n",
       "      <td>Other</td>\n",
       "    </tr>\n",
       "    <tr>\n",
       "      <th>2742593</th>\n",
       "      <td>2020-03-11</td>\n",
       "      <td>no</td>\n",
       "      <td>no</td>\n",
       "      <td>no</td>\n",
       "      <td>no</td>\n",
       "      <td>no</td>\n",
       "      <td>other</td>\n",
       "      <td>NaN</td>\n",
       "      <td>male</td>\n",
       "      <td>Other</td>\n",
       "    </tr>\n",
       "    <tr>\n",
       "      <th>2742594</th>\n",
       "      <td>2020-03-11</td>\n",
       "      <td>no</td>\n",
       "      <td>no</td>\n",
       "      <td>no</td>\n",
       "      <td>no</td>\n",
       "      <td>no</td>\n",
       "      <td>negative</td>\n",
       "      <td>NaN</td>\n",
       "      <td>female</td>\n",
       "      <td>Other</td>\n",
       "    </tr>\n",
       "    <tr>\n",
       "      <th>2742595</th>\n",
       "      <td>2020-03-11</td>\n",
       "      <td>no</td>\n",
       "      <td>1</td>\n",
       "      <td>no</td>\n",
       "      <td>no</td>\n",
       "      <td>no</td>\n",
       "      <td>negative</td>\n",
       "      <td>NaN</td>\n",
       "      <td>male</td>\n",
       "      <td>Other</td>\n",
       "    </tr>\n",
       "  </tbody>\n",
       "</table>\n",
       "<p>2742596 rows × 10 columns</p>\n",
       "</div>"
      ],
      "text/plain": [
       "          test_date cough fever sore_throat shortness_of_breath head_ache  \\\n",
       "0        2020-11-12    no    no          no                  no        no   \n",
       "1        2020-11-12    no     1          no                  no        no   \n",
       "2        2020-11-12    no    no          no                  no        no   \n",
       "3        2020-11-12    no    no          no                  no        no   \n",
       "4        2020-11-12    no     1          no                  no        no   \n",
       "...             ...   ...   ...         ...                 ...       ...   \n",
       "2742591  2020-03-11    no    no          no                  no        no   \n",
       "2742592  2020-03-11    no    no          no                  no        no   \n",
       "2742593  2020-03-11    no    no          no                  no        no   \n",
       "2742594  2020-03-11    no    no          no                  no        no   \n",
       "2742595  2020-03-11    no     1          no                  no        no   \n",
       "\n",
       "        corona_result age_60_and_above  gender         test_indication  \n",
       "0            negative               No    male                   Other  \n",
       "1            negative               No    male                   Other  \n",
       "2            negative              Yes  female                   Other  \n",
       "3            negative               No    male                   Other  \n",
       "4            negative               No    male  Contact with confirmed  \n",
       "...               ...              ...     ...                     ...  \n",
       "2742591      negative              NaN  female                   Other  \n",
       "2742592      negative              NaN  female                   Other  \n",
       "2742593         other              NaN    male                   Other  \n",
       "2742594      negative              NaN  female                   Other  \n",
       "2742595      negative              NaN    male                   Other  \n",
       "\n",
       "[2742596 rows x 10 columns]"
      ]
     },
     "execution_count": 7,
     "metadata": {},
     "output_type": "execute_result"
    }
   ],
   "source": [
    "large_symptoms_df.replace(0, 'no', inplace=True)\n",
    "large_symptoms_df"
   ]
  },
  {
   "cell_type": "code",
   "execution_count": 10,
   "id": "efa56b52-3836-4fd8-90ee-7d518e9fc210",
   "metadata": {},
   "outputs": [
    {
     "data": {
      "text/html": [
       "<div>\n",
       "<style scoped>\n",
       "    .dataframe tbody tr th:only-of-type {\n",
       "        vertical-align: middle;\n",
       "    }\n",
       "\n",
       "    .dataframe tbody tr th {\n",
       "        vertical-align: top;\n",
       "    }\n",
       "\n",
       "    .dataframe thead th {\n",
       "        text-align: right;\n",
       "    }\n",
       "</style>\n",
       "<table border=\"1\" class=\"dataframe\">\n",
       "  <thead>\n",
       "    <tr style=\"text-align: right;\">\n",
       "      <th></th>\n",
       "      <th>test_date</th>\n",
       "      <th>cough</th>\n",
       "      <th>fever</th>\n",
       "      <th>sore_throat</th>\n",
       "      <th>shortness_of_breath</th>\n",
       "      <th>head_ache</th>\n",
       "      <th>corona_result</th>\n",
       "      <th>age_60_and_above</th>\n",
       "      <th>gender</th>\n",
       "      <th>test_indication</th>\n",
       "    </tr>\n",
       "  </thead>\n",
       "  <tbody>\n",
       "    <tr>\n",
       "      <th>0</th>\n",
       "      <td>2020-11-12</td>\n",
       "      <td>no</td>\n",
       "      <td>no</td>\n",
       "      <td>no</td>\n",
       "      <td>no</td>\n",
       "      <td>no</td>\n",
       "      <td>negative</td>\n",
       "      <td>No</td>\n",
       "      <td>male</td>\n",
       "      <td>Other</td>\n",
       "    </tr>\n",
       "    <tr>\n",
       "      <th>1</th>\n",
       "      <td>2020-11-12</td>\n",
       "      <td>no</td>\n",
       "      <td>yes</td>\n",
       "      <td>no</td>\n",
       "      <td>no</td>\n",
       "      <td>no</td>\n",
       "      <td>negative</td>\n",
       "      <td>No</td>\n",
       "      <td>male</td>\n",
       "      <td>Other</td>\n",
       "    </tr>\n",
       "    <tr>\n",
       "      <th>2</th>\n",
       "      <td>2020-11-12</td>\n",
       "      <td>no</td>\n",
       "      <td>no</td>\n",
       "      <td>no</td>\n",
       "      <td>no</td>\n",
       "      <td>no</td>\n",
       "      <td>negative</td>\n",
       "      <td>Yes</td>\n",
       "      <td>female</td>\n",
       "      <td>Other</td>\n",
       "    </tr>\n",
       "    <tr>\n",
       "      <th>3</th>\n",
       "      <td>2020-11-12</td>\n",
       "      <td>no</td>\n",
       "      <td>no</td>\n",
       "      <td>no</td>\n",
       "      <td>no</td>\n",
       "      <td>no</td>\n",
       "      <td>negative</td>\n",
       "      <td>No</td>\n",
       "      <td>male</td>\n",
       "      <td>Other</td>\n",
       "    </tr>\n",
       "    <tr>\n",
       "      <th>4</th>\n",
       "      <td>2020-11-12</td>\n",
       "      <td>no</td>\n",
       "      <td>yes</td>\n",
       "      <td>no</td>\n",
       "      <td>no</td>\n",
       "      <td>no</td>\n",
       "      <td>negative</td>\n",
       "      <td>No</td>\n",
       "      <td>male</td>\n",
       "      <td>Contact with confirmed</td>\n",
       "    </tr>\n",
       "    <tr>\n",
       "      <th>...</th>\n",
       "      <td>...</td>\n",
       "      <td>...</td>\n",
       "      <td>...</td>\n",
       "      <td>...</td>\n",
       "      <td>...</td>\n",
       "      <td>...</td>\n",
       "      <td>...</td>\n",
       "      <td>...</td>\n",
       "      <td>...</td>\n",
       "      <td>...</td>\n",
       "    </tr>\n",
       "    <tr>\n",
       "      <th>2742591</th>\n",
       "      <td>2020-03-11</td>\n",
       "      <td>no</td>\n",
       "      <td>no</td>\n",
       "      <td>no</td>\n",
       "      <td>no</td>\n",
       "      <td>no</td>\n",
       "      <td>negative</td>\n",
       "      <td>NaN</td>\n",
       "      <td>female</td>\n",
       "      <td>Other</td>\n",
       "    </tr>\n",
       "    <tr>\n",
       "      <th>2742592</th>\n",
       "      <td>2020-03-11</td>\n",
       "      <td>no</td>\n",
       "      <td>no</td>\n",
       "      <td>no</td>\n",
       "      <td>no</td>\n",
       "      <td>no</td>\n",
       "      <td>negative</td>\n",
       "      <td>NaN</td>\n",
       "      <td>female</td>\n",
       "      <td>Other</td>\n",
       "    </tr>\n",
       "    <tr>\n",
       "      <th>2742593</th>\n",
       "      <td>2020-03-11</td>\n",
       "      <td>no</td>\n",
       "      <td>no</td>\n",
       "      <td>no</td>\n",
       "      <td>no</td>\n",
       "      <td>no</td>\n",
       "      <td>other</td>\n",
       "      <td>NaN</td>\n",
       "      <td>male</td>\n",
       "      <td>Other</td>\n",
       "    </tr>\n",
       "    <tr>\n",
       "      <th>2742594</th>\n",
       "      <td>2020-03-11</td>\n",
       "      <td>no</td>\n",
       "      <td>no</td>\n",
       "      <td>no</td>\n",
       "      <td>no</td>\n",
       "      <td>no</td>\n",
       "      <td>negative</td>\n",
       "      <td>NaN</td>\n",
       "      <td>female</td>\n",
       "      <td>Other</td>\n",
       "    </tr>\n",
       "    <tr>\n",
       "      <th>2742595</th>\n",
       "      <td>2020-03-11</td>\n",
       "      <td>no</td>\n",
       "      <td>yes</td>\n",
       "      <td>no</td>\n",
       "      <td>no</td>\n",
       "      <td>no</td>\n",
       "      <td>negative</td>\n",
       "      <td>NaN</td>\n",
       "      <td>male</td>\n",
       "      <td>Other</td>\n",
       "    </tr>\n",
       "  </tbody>\n",
       "</table>\n",
       "<p>2742596 rows × 10 columns</p>\n",
       "</div>"
      ],
      "text/plain": [
       "          test_date cough fever sore_throat shortness_of_breath head_ache  \\\n",
       "0        2020-11-12    no    no          no                  no        no   \n",
       "1        2020-11-12    no   yes          no                  no        no   \n",
       "2        2020-11-12    no    no          no                  no        no   \n",
       "3        2020-11-12    no    no          no                  no        no   \n",
       "4        2020-11-12    no   yes          no                  no        no   \n",
       "...             ...   ...   ...         ...                 ...       ...   \n",
       "2742591  2020-03-11    no    no          no                  no        no   \n",
       "2742592  2020-03-11    no    no          no                  no        no   \n",
       "2742593  2020-03-11    no    no          no                  no        no   \n",
       "2742594  2020-03-11    no    no          no                  no        no   \n",
       "2742595  2020-03-11    no   yes          no                  no        no   \n",
       "\n",
       "        corona_result age_60_and_above  gender         test_indication  \n",
       "0            negative               No    male                   Other  \n",
       "1            negative               No    male                   Other  \n",
       "2            negative              Yes  female                   Other  \n",
       "3            negative               No    male                   Other  \n",
       "4            negative               No    male  Contact with confirmed  \n",
       "...               ...              ...     ...                     ...  \n",
       "2742591      negative              NaN  female                   Other  \n",
       "2742592      negative              NaN  female                   Other  \n",
       "2742593         other              NaN    male                   Other  \n",
       "2742594      negative              NaN  female                   Other  \n",
       "2742595      negative              NaN    male                   Other  \n",
       "\n",
       "[2742596 rows x 10 columns]"
      ]
     },
     "execution_count": 10,
     "metadata": {},
     "output_type": "execute_result"
    }
   ],
   "source": [
    "large_symptoms_df.replace(1, 'yes', inplace=True)\n",
    "large_symptoms_df"
   ]
  },
  {
   "cell_type": "code",
   "execution_count": 13,
   "id": "fddae511-43b8-4144-8a58-c01e872b39a7",
   "metadata": {},
   "outputs": [
    {
     "data": {
      "text/plain": [
       "array(['negative', 'positive', 'other'], dtype=object)"
      ]
     },
     "execution_count": 13,
     "metadata": {},
     "output_type": "execute_result"
    }
   ],
   "source": [
    "large_symptoms_df.corona_result.unique()"
   ]
  },
  {
   "cell_type": "code",
   "execution_count": 83,
   "id": "78e69a08-25b9-4f5d-86f8-288dd62414ea",
   "metadata": {},
   "outputs": [
    {
     "data": {
      "text/plain": [
       "array(['Other', 'Abroad', 'Contact with confirmed'], dtype=object)"
      ]
     },
     "execution_count": 83,
     "metadata": {},
     "output_type": "execute_result"
    }
   ],
   "source": [
    "large_symptoms_df.test_indication.unique()"
   ]
  },
  {
   "cell_type": "code",
   "execution_count": 14,
   "id": "0f723397-2ae4-43ff-adfd-6194f31a7d4f",
   "metadata": {},
   "outputs": [
    {
     "data": {
      "text/plain": [
       "array(['No', 'Yes', nan], dtype=object)"
      ]
     },
     "execution_count": 14,
     "metadata": {},
     "output_type": "execute_result"
    }
   ],
   "source": [
    "large_symptoms_df.iloc[:, 7].unique()\n"
   ]
  },
  {
   "cell_type": "code",
   "execution_count": 15,
   "id": "a823aee4-663c-4d0e-9411-668be8ac9955",
   "metadata": {},
   "outputs": [
    {
     "name": "stdout",
     "output_type": "stream",
     "text": [
      "<class 'pandas.core.frame.DataFrame'>\n",
      "RangeIndex: 2742596 entries, 0 to 2742595\n",
      "Data columns (total 10 columns):\n",
      " #   Column               Dtype \n",
      "---  ------               ----- \n",
      " 0   test_date            object\n",
      " 1   cough                object\n",
      " 2   fever                object\n",
      " 3   sore_throat          object\n",
      " 4   shortness_of_breath  object\n",
      " 5   head_ache            object\n",
      " 6   corona_result        object\n",
      " 7   age_60_and_above     object\n",
      " 8   gender               object\n",
      " 9   test_indication      object\n",
      "dtypes: object(10)\n",
      "memory usage: 209.2+ MB\n"
     ]
    }
   ],
   "source": [
    "large_symptoms_df.info()\n",
    "\n"
   ]
  },
  {
   "cell_type": "code",
   "execution_count": 16,
   "id": "22f5797b-a300-400f-9c08-3e40e37efc58",
   "metadata": {},
   "outputs": [
    {
     "data": {
      "text/plain": [
       "test_date                   0\n",
       "cough                       0\n",
       "fever                       0\n",
       "sore_throat                 0\n",
       "shortness_of_breath         0\n",
       "head_ache                   0\n",
       "corona_result               0\n",
       "age_60_and_above       547644\n",
       "gender                  92886\n",
       "test_indication             0\n",
       "dtype: int64"
      ]
     },
     "execution_count": 16,
     "metadata": {},
     "output_type": "execute_result"
    }
   ],
   "source": [
    "large_symptoms_df.isna().sum()"
   ]
  },
  {
   "cell_type": "code",
   "execution_count": 17,
   "id": "17abc954-caaa-44d4-84ad-d0afe66920f5",
   "metadata": {},
   "outputs": [
    {
     "data": {
      "text/plain": [
       "array(['No', 'Yes', nan], dtype=object)"
      ]
     },
     "execution_count": 17,
     "metadata": {},
     "output_type": "execute_result"
    }
   ],
   "source": [
    "large_symptoms_df.age_60_and_above.unique()"
   ]
  },
  {
   "cell_type": "code",
   "execution_count": 18,
   "id": "18d117c6-3eaf-4bbd-91f9-7cfccec75e88",
   "metadata": {},
   "outputs": [
    {
     "data": {
      "text/plain": [
       "array(['male', 'female', nan], dtype=object)"
      ]
     },
     "execution_count": 18,
     "metadata": {},
     "output_type": "execute_result"
    }
   ],
   "source": [
    "large_symptoms_df.gender.unique()"
   ]
  },
  {
   "cell_type": "code",
   "execution_count": 19,
   "id": "2dd96289-7932-42d8-9d62-50602b117ad4",
   "metadata": {},
   "outputs": [
    {
     "data": {
      "text/plain": [
       "19.968088628438167"
      ]
     },
     "execution_count": 19,
     "metadata": {},
     "output_type": "execute_result"
    }
   ],
   "source": [
    "# 20% of this column has missing values, using most frequent to fill the missing values will bias the dataset a lot. \n",
    "\n",
    "# I will try to model with or without this column using most frequent imputation. if this column is not important, then I will drop it\n",
    "\n",
    "\n",
    "percentage_missingvalue_age_60_and_above = (547644/ 2742596)*100\n",
    "percentage_missingvalue_age_60_and_above"
   ]
  },
  {
   "cell_type": "code",
   "execution_count": 20,
   "id": "e606dfe0-6cdc-4d7a-9236-6f1aef769ab1",
   "metadata": {},
   "outputs": [
    {
     "data": {
      "text/plain": [
       "<AxesSubplot:xlabel='age_60_and_above', ylabel='count'>"
      ]
     },
     "execution_count": 20,
     "metadata": {},
     "output_type": "execute_result"
    },
    {
     "data": {
      "image/png": "[encoded data removed]",
      "text/plain": [
       "<Figure size 432x288 with 1 Axes>"
      ]
     },
     "metadata": {
      "needs_background": "light"
     },
     "output_type": "display_data"
    }
   ],
   "source": [
    "sns.countplot(x=large_symptoms_df.age_60_and_above)"
   ]
  },
  {
   "cell_type": "code",
   "execution_count": 21,
   "id": "d4f03fa3-79d1-4b46-a201-a6cd502366d0",
   "metadata": {},
   "outputs": [
    {
     "data": {
      "text/plain": [
       "<AxesSubplot:xlabel='corona_result', ylabel='count'>"
      ]
     },
     "execution_count": 21,
     "metadata": {},
     "output_type": "execute_result"
    },
    {
     "data": {
      "image/png": "[encoded data removed]",
      "text/plain": [
       "<Figure size 432x288 with 1 Axes>"
      ]
     },
     "metadata": {
      "needs_background": "light"
     },
     "output_type": "display_data"
    }
   ],
   "source": [
    "sns.countplot(x=large_symptoms_df.corona_result, data=large_symptoms_df, hue='age_60_and_above')"
   ]
  },
  {
   "cell_type": "code",
   "execution_count": 22,
   "id": "9863bc6e-0028-48b3-9b79-00aa4cb6b946",
   "metadata": {},
   "outputs": [
    {
     "data": {
      "text/plain": [
       "<AxesSubplot:xlabel='corona_result,age_60_and_above'>"
      ]
     },
     "execution_count": 22,
     "metadata": {},
     "output_type": "execute_result"
    },
    {
     "data": {
      "image/png": "[encoded data removed]",
      "text/plain": [
       "<Figure size 432x288 with 1 Axes>"
      ]
     },
     "metadata": {
      "needs_background": "light"
     },
     "output_type": "display_data"
    }
   ],
   "source": [
    "# this is the same as above. I wanted to see if groupby and countplot gives the same value. it does\n",
    "large_symptoms_df.groupby(['corona_result', 'age_60_and_above']).age_60_and_above.count().plot(kind='bar')"
   ]
  },
  {
   "cell_type": "code",
   "execution_count": 23,
   "id": "28e74f36-31e4-461a-afed-d954308c23a2",
   "metadata": {},
   "outputs": [
    {
     "data": {
      "text/plain": [
       "3.386791200745571"
      ]
     },
     "execution_count": 23,
     "metadata": {},
     "output_type": "execute_result"
    }
   ],
   "source": [
    "# The percentage that is missing here is not really high, so using most frequent to fill the missing value will not bais the data\n",
    "percentage_missingvalue_gender =  (92886/ 2742596)*100\n",
    "percentage_missingvalue_gender"
   ]
  },
  {
   "cell_type": "code",
   "execution_count": 24,
   "id": "83411f5f-dd38-498e-b5fd-460ca82826c8",
   "metadata": {},
   "outputs": [
    {
     "data": {
      "text/plain": [
       "<AxesSubplot:xlabel='corona_result', ylabel='count'>"
      ]
     },
     "execution_count": 24,
     "metadata": {},
     "output_type": "execute_result"
    },
    {
     "data": {
      "image/png": "[encoded data removed]",
      "text/plain": [
       "<Figure size 432x288 with 1 Axes>"
      ]
     },
     "metadata": {
      "needs_background": "light"
     },
     "output_type": "display_data"
    }
   ],
   "source": [
    "sns.countplot(x=large_symptoms_df.corona_result)"
   ]
  },
  {
   "cell_type": "code",
   "execution_count": 25,
   "id": "0c4724e9-c704-4792-9777-9750d197b24c",
   "metadata": {},
   "outputs": [
    {
     "data": {
      "text/plain": [
       "<AxesSubplot:xlabel='corona_result', ylabel='count'>"
      ]
     },
     "execution_count": 25,
     "metadata": {},
     "output_type": "execute_result"
    },
    {
     "data": {
      "image/png": "[encoded data removed]",
      "text/plain": [
       "<Figure size 432x288 with 1 Axes>"
      ]
     },
     "metadata": {
      "needs_background": "light"
     },
     "output_type": "display_data"
    }
   ],
   "source": [
    "sns.countplot(x=large_symptoms_df.corona_result, data=large_symptoms_df, hue='cough')"
   ]
  },
  {
   "cell_type": "code",
   "execution_count": 26,
   "id": "eed358ff-3328-40a3-80ee-3775cd1b837d",
   "metadata": {},
   "outputs": [
    {
     "data": {
      "text/plain": [
       "<AxesSubplot:xlabel='corona_result', ylabel='count'>"
      ]
     },
     "execution_count": 26,
     "metadata": {},
     "output_type": "execute_result"
    },
    {
     "data": {
      "image/png": "[encoded data removed]",
      "text/plain": [
       "<Figure size 432x288 with 1 Axes>"
      ]
     },
     "metadata": {
      "needs_background": "light"
     },
     "output_type": "display_data"
    }
   ],
   "source": [
    "sns.countplot(x=large_symptoms_df.corona_result, data=large_symptoms_df, hue='fever')"
   ]
  },
  {
   "cell_type": "code",
   "execution_count": 27,
   "id": "eed0db1b-277c-412c-8b77-5104f55ef383",
   "metadata": {},
   "outputs": [
    {
     "data": {
      "text/plain": [
       "<AxesSubplot:xlabel='corona_result', ylabel='count'>"
      ]
     },
     "execution_count": 27,
     "metadata": {},
     "output_type": "execute_result"
    },
    {
     "data": {
      "image/png": "[encoded data removed]",
      "text/plain": [
       "<Figure size 432x288 with 1 Axes>"
      ]
     },
     "metadata": {
      "needs_background": "light"
     },
     "output_type": "display_data"
    }
   ],
   "source": [
    "sns.countplot(x=large_symptoms_df.corona_result, data=large_symptoms_df, hue='sore_throat')"
   ]
  },
  {
   "cell_type": "code",
   "execution_count": 28,
   "id": "adce3ca5-c9ad-40e2-972a-f45241ab0734",
   "metadata": {},
   "outputs": [
    {
     "data": {
      "text/plain": [
       "<AxesSubplot:xlabel='corona_result', ylabel='count'>"
      ]
     },
     "execution_count": 28,
     "metadata": {},
     "output_type": "execute_result"
    },
    {
     "data": {
      "image/png": "[encoded data removed]",
      "text/plain": [
       "<Figure size 432x288 with 1 Axes>"
      ]
     },
     "metadata": {
      "needs_background": "light"
     },
     "output_type": "display_data"
    }
   ],
   "source": [
    "sns.countplot(x=large_symptoms_df.corona_result, data=large_symptoms_df, hue='shortness_of_breath')"
   ]
  },
  {
   "cell_type": "code",
   "execution_count": 29,
   "id": "1367638c-0b8b-4987-a8d7-1690c4c7ccaf",
   "metadata": {},
   "outputs": [
    {
     "data": {
      "text/plain": [
       "<AxesSubplot:xlabel='corona_result', ylabel='count'>"
      ]
     },
     "execution_count": 29,
     "metadata": {},
     "output_type": "execute_result"
    },
    {
     "data": {
      "image/png": "[encoded data removed]",
      "text/plain": [
       "<Figure size 432x288 with 1 Axes>"
      ]
     },
     "metadata": {
      "needs_background": "light"
     },
     "output_type": "display_data"
    }
   ],
   "source": [
    "sns.countplot(x=large_symptoms_df.corona_result, data=large_symptoms_df, hue='head_ache')"
   ]
  },
  {
   "cell_type": "code",
   "execution_count": 30,
   "id": "eb5eaeea-5050-4861-9a19-adfec9633ad1",
   "metadata": {},
   "outputs": [
    {
     "data": {
      "text/plain": [
       "<AxesSubplot:xlabel='corona_result', ylabel='count'>"
      ]
     },
     "execution_count": 30,
     "metadata": {},
     "output_type": "execute_result"
    },
    {
     "data": {
      "image/png": "[encoded data removed]",
      "text/plain": [
       "<Figure size 432x288 with 1 Axes>"
      ]
     },
     "metadata": {
      "needs_background": "light"
     },
     "output_type": "display_data"
    }
   ],
   "source": [
    "sns.countplot(x=large_symptoms_df.corona_result, data=large_symptoms_df, hue='gender')"
   ]
  },
  {
   "cell_type": "code",
   "execution_count": 31,
   "id": "c70c7711-f5c7-404f-a49d-e080d24f40b5",
   "metadata": {},
   "outputs": [
    {
     "data": {
      "text/plain": [
       "<AxesSubplot:xlabel='corona_result', ylabel='count'>"
      ]
     },
     "execution_count": 31,
     "metadata": {},
     "output_type": "execute_result"
    },
    {
     "data": {
      "image/png": "[encoded data removed]",
      "text/plain": [
       "<Figure size 432x288 with 1 Axes>"
      ]
     },
     "metadata": {
      "needs_background": "light"
     },
     "output_type": "display_data"
    }
   ],
   "source": [
    "sns.countplot(x=large_symptoms_df.corona_result, data=large_symptoms_df, hue='test_indication')"
   ]
  },
  {
   "cell_type": "code",
   "execution_count": 32,
   "id": "831134ba-38e1-49f1-895b-cd9f9e10d814",
   "metadata": {},
   "outputs": [
    {
     "data": {
      "text/plain": [
       "<AxesSubplot:xlabel='corona_result,age_60_and_above'>"
      ]
     },
     "execution_count": 32,
     "metadata": {},
     "output_type": "execute_result"
    },
    {
     "data": {
      "image/png": "[encoded data removed]",
      "text/plain": [
       "<Figure size 432x288 with 1 Axes>"
      ]
     },
     "metadata": {
      "needs_background": "light"
     },
     "output_type": "display_data"
    }
   ],
   "source": [
    "# this is the same as above. I wanted to see if groupby and countplot gives the same value. it does\n",
    "large_symptoms_df.groupby(['corona_result', 'age_60_and_above']).age_60_and_above.count().plot(kind='bar')"
   ]
  },
  {
   "cell_type": "code",
   "execution_count": 33,
   "id": "e63023f4-1495-4b58-a243-e64eeb0d9d66",
   "metadata": {},
   "outputs": [],
   "source": [
    "large_symptoms_df.sort_values(by='test_date', inplace=True)"
   ]
  },
  {
   "cell_type": "code",
   "execution_count": 34,
   "id": "83dcad4c-dffd-4315-9333-17536c94ebcf",
   "metadata": {},
   "outputs": [
    {
     "data": {
      "text/html": [
       "<div>\n",
       "<style scoped>\n",
       "    .dataframe tbody tr th:only-of-type {\n",
       "        vertical-align: middle;\n",
       "    }\n",
       "\n",
       "    .dataframe tbody tr th {\n",
       "        vertical-align: top;\n",
       "    }\n",
       "\n",
       "    .dataframe thead th {\n",
       "        text-align: right;\n",
       "    }\n",
       "</style>\n",
       "<table border=\"1\" class=\"dataframe\">\n",
       "  <thead>\n",
       "    <tr style=\"text-align: right;\">\n",
       "      <th></th>\n",
       "      <th>test_date</th>\n",
       "      <th>cough</th>\n",
       "      <th>fever</th>\n",
       "      <th>sore_throat</th>\n",
       "      <th>shortness_of_breath</th>\n",
       "      <th>head_ache</th>\n",
       "      <th>corona_result</th>\n",
       "      <th>age_60_and_above</th>\n",
       "      <th>gender</th>\n",
       "      <th>test_indication</th>\n",
       "    </tr>\n",
       "  </thead>\n",
       "  <tbody>\n",
       "    <tr>\n",
       "      <th>2742595</th>\n",
       "      <td>2020-03-11</td>\n",
       "      <td>no</td>\n",
       "      <td>yes</td>\n",
       "      <td>no</td>\n",
       "      <td>no</td>\n",
       "      <td>no</td>\n",
       "      <td>negative</td>\n",
       "      <td>NaN</td>\n",
       "      <td>male</td>\n",
       "      <td>Other</td>\n",
       "    </tr>\n",
       "    <tr>\n",
       "      <th>2742346</th>\n",
       "      <td>2020-03-11</td>\n",
       "      <td>no</td>\n",
       "      <td>no</td>\n",
       "      <td>yes</td>\n",
       "      <td>no</td>\n",
       "      <td>no</td>\n",
       "      <td>positive</td>\n",
       "      <td>NaN</td>\n",
       "      <td>male</td>\n",
       "      <td>Abroad</td>\n",
       "    </tr>\n",
       "    <tr>\n",
       "      <th>2742347</th>\n",
       "      <td>2020-03-11</td>\n",
       "      <td>yes</td>\n",
       "      <td>no</td>\n",
       "      <td>no</td>\n",
       "      <td>no</td>\n",
       "      <td>no</td>\n",
       "      <td>negative</td>\n",
       "      <td>NaN</td>\n",
       "      <td>male</td>\n",
       "      <td>Other</td>\n",
       "    </tr>\n",
       "    <tr>\n",
       "      <th>2742348</th>\n",
       "      <td>2020-03-11</td>\n",
       "      <td>no</td>\n",
       "      <td>no</td>\n",
       "      <td>no</td>\n",
       "      <td>no</td>\n",
       "      <td>no</td>\n",
       "      <td>negative</td>\n",
       "      <td>NaN</td>\n",
       "      <td>male</td>\n",
       "      <td>Abroad</td>\n",
       "    </tr>\n",
       "    <tr>\n",
       "      <th>2742349</th>\n",
       "      <td>2020-03-11</td>\n",
       "      <td>no</td>\n",
       "      <td>no</td>\n",
       "      <td>no</td>\n",
       "      <td>yes</td>\n",
       "      <td>no</td>\n",
       "      <td>negative</td>\n",
       "      <td>NaN</td>\n",
       "      <td>male</td>\n",
       "      <td>Abroad</td>\n",
       "    </tr>\n",
       "    <tr>\n",
       "      <th>...</th>\n",
       "      <td>...</td>\n",
       "      <td>...</td>\n",
       "      <td>...</td>\n",
       "      <td>...</td>\n",
       "      <td>...</td>\n",
       "      <td>...</td>\n",
       "      <td>...</td>\n",
       "      <td>...</td>\n",
       "      <td>...</td>\n",
       "      <td>...</td>\n",
       "    </tr>\n",
       "    <tr>\n",
       "      <th>10084</th>\n",
       "      <td>2020-11-12</td>\n",
       "      <td>no</td>\n",
       "      <td>no</td>\n",
       "      <td>no</td>\n",
       "      <td>no</td>\n",
       "      <td>no</td>\n",
       "      <td>negative</td>\n",
       "      <td>No</td>\n",
       "      <td>female</td>\n",
       "      <td>Other</td>\n",
       "    </tr>\n",
       "    <tr>\n",
       "      <th>10083</th>\n",
       "      <td>2020-11-12</td>\n",
       "      <td>no</td>\n",
       "      <td>no</td>\n",
       "      <td>no</td>\n",
       "      <td>no</td>\n",
       "      <td>no</td>\n",
       "      <td>negative</td>\n",
       "      <td>No</td>\n",
       "      <td>female</td>\n",
       "      <td>Other</td>\n",
       "    </tr>\n",
       "    <tr>\n",
       "      <th>10082</th>\n",
       "      <td>2020-11-12</td>\n",
       "      <td>no</td>\n",
       "      <td>no</td>\n",
       "      <td>no</td>\n",
       "      <td>no</td>\n",
       "      <td>no</td>\n",
       "      <td>negative</td>\n",
       "      <td>No</td>\n",
       "      <td>female</td>\n",
       "      <td>Other</td>\n",
       "    </tr>\n",
       "    <tr>\n",
       "      <th>10094</th>\n",
       "      <td>2020-11-12</td>\n",
       "      <td>no</td>\n",
       "      <td>no</td>\n",
       "      <td>no</td>\n",
       "      <td>no</td>\n",
       "      <td>yes</td>\n",
       "      <td>positive</td>\n",
       "      <td>No</td>\n",
       "      <td>female</td>\n",
       "      <td>Contact with confirmed</td>\n",
       "    </tr>\n",
       "    <tr>\n",
       "      <th>0</th>\n",
       "      <td>2020-11-12</td>\n",
       "      <td>no</td>\n",
       "      <td>no</td>\n",
       "      <td>no</td>\n",
       "      <td>no</td>\n",
       "      <td>no</td>\n",
       "      <td>negative</td>\n",
       "      <td>No</td>\n",
       "      <td>male</td>\n",
       "      <td>Other</td>\n",
       "    </tr>\n",
       "  </tbody>\n",
       "</table>\n",
       "<p>2742596 rows × 10 columns</p>\n",
       "</div>"
      ],
      "text/plain": [
       "          test_date cough fever sore_throat shortness_of_breath head_ache  \\\n",
       "2742595  2020-03-11    no   yes          no                  no        no   \n",
       "2742346  2020-03-11    no    no         yes                  no        no   \n",
       "2742347  2020-03-11   yes    no          no                  no        no   \n",
       "2742348  2020-03-11    no    no          no                  no        no   \n",
       "2742349  2020-03-11    no    no          no                 yes        no   \n",
       "...             ...   ...   ...         ...                 ...       ...   \n",
       "10084    2020-11-12    no    no          no                  no        no   \n",
       "10083    2020-11-12    no    no          no                  no        no   \n",
       "10082    2020-11-12    no    no          no                  no        no   \n",
       "10094    2020-11-12    no    no          no                  no       yes   \n",
       "0        2020-11-12    no    no          no                  no        no   \n",
       "\n",
       "        corona_result age_60_and_above  gender         test_indication  \n",
       "2742595      negative              NaN    male                   Other  \n",
       "2742346      positive              NaN    male                  Abroad  \n",
       "2742347      negative              NaN    male                   Other  \n",
       "2742348      negative              NaN    male                  Abroad  \n",
       "2742349      negative              NaN    male                  Abroad  \n",
       "...               ...              ...     ...                     ...  \n",
       "10084        negative               No  female                   Other  \n",
       "10083        negative               No  female                   Other  \n",
       "10082        negative               No  female                   Other  \n",
       "10094        positive               No  female  Contact with confirmed  \n",
       "0            negative               No    male                   Other  \n",
       "\n",
       "[2742596 rows x 10 columns]"
      ]
     },
     "execution_count": 34,
     "metadata": {},
     "output_type": "execute_result"
    }
   ],
   "source": [
    "large_symptoms_df"
   ]
  },
  {
   "cell_type": "code",
   "execution_count": 35,
   "id": "7f028f0a-426f-4b37-b9ea-aefead311538",
   "metadata": {},
   "outputs": [
    {
     "data": {
      "text/html": [
       "<div>\n",
       "<style scoped>\n",
       "    .dataframe tbody tr th:only-of-type {\n",
       "        vertical-align: middle;\n",
       "    }\n",
       "\n",
       "    .dataframe tbody tr th {\n",
       "        vertical-align: top;\n",
       "    }\n",
       "\n",
       "    .dataframe thead th {\n",
       "        text-align: right;\n",
       "    }\n",
       "</style>\n",
       "<table border=\"1\" class=\"dataframe\">\n",
       "  <thead>\n",
       "    <tr style=\"text-align: right;\">\n",
       "      <th></th>\n",
       "    </tr>\n",
       "  </thead>\n",
       "  <tbody>\n",
       "  </tbody>\n",
       "</table>\n",
       "</div>"
      ],
      "text/plain": [
       "Empty DataFrame\n",
       "Columns: []\n",
       "Index: []"
      ]
     },
     "execution_count": 35,
     "metadata": {},
     "output_type": "execute_result"
    }
   ],
   "source": [
    "corr = large_symptoms_df.corr(method='pearson')\n",
    "corr"
   ]
  },
  {
   "cell_type": "code",
   "execution_count": 38,
   "id": "0bf68426-5bd1-4f5b-aa98-f8c2292fd5d9",
   "metadata": {},
   "outputs": [],
   "source": [
    "# sns.heatmap(corr)"
   ]
  },
  {
   "cell_type": "code",
   "execution_count": 39,
   "id": "695bde84-9fde-4e89-833a-b2bb5be0fe84",
   "metadata": {},
   "outputs": [],
   "source": [
    "from sklearn.model_selection import train_test_split"
   ]
  },
  {
   "cell_type": "code",
   "execution_count": 41,
   "id": "8d66acd3-a53b-4801-81f5-c5d0fde47c48",
   "metadata": {},
   "outputs": [
    {
     "data": {
      "text/html": [
       "<div>\n",
       "<style scoped>\n",
       "    .dataframe tbody tr th:only-of-type {\n",
       "        vertical-align: middle;\n",
       "    }\n",
       "\n",
       "    .dataframe tbody tr th {\n",
       "        vertical-align: top;\n",
       "    }\n",
       "\n",
       "    .dataframe thead th {\n",
       "        text-align: right;\n",
       "    }\n",
       "</style>\n",
       "<table border=\"1\" class=\"dataframe\">\n",
       "  <thead>\n",
       "    <tr style=\"text-align: right;\">\n",
       "      <th></th>\n",
       "      <th>cough</th>\n",
       "      <th>fever</th>\n",
       "      <th>sore_throat</th>\n",
       "      <th>shortness_of_breath</th>\n",
       "      <th>head_ache</th>\n",
       "      <th>age_60_and_above</th>\n",
       "      <th>test_indication</th>\n",
       "    </tr>\n",
       "  </thead>\n",
       "  <tbody>\n",
       "    <tr>\n",
       "      <th>2742595</th>\n",
       "      <td>no</td>\n",
       "      <td>yes</td>\n",
       "      <td>no</td>\n",
       "      <td>no</td>\n",
       "      <td>no</td>\n",
       "      <td>NaN</td>\n",
       "      <td>Other</td>\n",
       "    </tr>\n",
       "    <tr>\n",
       "      <th>2742346</th>\n",
       "      <td>no</td>\n",
       "      <td>no</td>\n",
       "      <td>yes</td>\n",
       "      <td>no</td>\n",
       "      <td>no</td>\n",
       "      <td>NaN</td>\n",
       "      <td>Abroad</td>\n",
       "    </tr>\n",
       "    <tr>\n",
       "      <th>2742347</th>\n",
       "      <td>yes</td>\n",
       "      <td>no</td>\n",
       "      <td>no</td>\n",
       "      <td>no</td>\n",
       "      <td>no</td>\n",
       "      <td>NaN</td>\n",
       "      <td>Other</td>\n",
       "    </tr>\n",
       "    <tr>\n",
       "      <th>2742348</th>\n",
       "      <td>no</td>\n",
       "      <td>no</td>\n",
       "      <td>no</td>\n",
       "      <td>no</td>\n",
       "      <td>no</td>\n",
       "      <td>NaN</td>\n",
       "      <td>Abroad</td>\n",
       "    </tr>\n",
       "    <tr>\n",
       "      <th>2742349</th>\n",
       "      <td>no</td>\n",
       "      <td>no</td>\n",
       "      <td>no</td>\n",
       "      <td>yes</td>\n",
       "      <td>no</td>\n",
       "      <td>NaN</td>\n",
       "      <td>Abroad</td>\n",
       "    </tr>\n",
       "    <tr>\n",
       "      <th>...</th>\n",
       "      <td>...</td>\n",
       "      <td>...</td>\n",
       "      <td>...</td>\n",
       "      <td>...</td>\n",
       "      <td>...</td>\n",
       "      <td>...</td>\n",
       "      <td>...</td>\n",
       "    </tr>\n",
       "    <tr>\n",
       "      <th>10084</th>\n",
       "      <td>no</td>\n",
       "      <td>no</td>\n",
       "      <td>no</td>\n",
       "      <td>no</td>\n",
       "      <td>no</td>\n",
       "      <td>No</td>\n",
       "      <td>Other</td>\n",
       "    </tr>\n",
       "    <tr>\n",
       "      <th>10083</th>\n",
       "      <td>no</td>\n",
       "      <td>no</td>\n",
       "      <td>no</td>\n",
       "      <td>no</td>\n",
       "      <td>no</td>\n",
       "      <td>No</td>\n",
       "      <td>Other</td>\n",
       "    </tr>\n",
       "    <tr>\n",
       "      <th>10082</th>\n",
       "      <td>no</td>\n",
       "      <td>no</td>\n",
       "      <td>no</td>\n",
       "      <td>no</td>\n",
       "      <td>no</td>\n",
       "      <td>No</td>\n",
       "      <td>Other</td>\n",
       "    </tr>\n",
       "    <tr>\n",
       "      <th>10094</th>\n",
       "      <td>no</td>\n",
       "      <td>no</td>\n",
       "      <td>no</td>\n",
       "      <td>no</td>\n",
       "      <td>yes</td>\n",
       "      <td>No</td>\n",
       "      <td>Contact with confirmed</td>\n",
       "    </tr>\n",
       "    <tr>\n",
       "      <th>0</th>\n",
       "      <td>no</td>\n",
       "      <td>no</td>\n",
       "      <td>no</td>\n",
       "      <td>no</td>\n",
       "      <td>no</td>\n",
       "      <td>No</td>\n",
       "      <td>Other</td>\n",
       "    </tr>\n",
       "  </tbody>\n",
       "</table>\n",
       "<p>2742596 rows × 7 columns</p>\n",
       "</div>"
      ],
      "text/plain": [
       "        cough fever sore_throat shortness_of_breath head_ache  \\\n",
       "2742595    no   yes          no                  no        no   \n",
       "2742346    no    no         yes                  no        no   \n",
       "2742347   yes    no          no                  no        no   \n",
       "2742348    no    no          no                  no        no   \n",
       "2742349    no    no          no                 yes        no   \n",
       "...       ...   ...         ...                 ...       ...   \n",
       "10084      no    no          no                  no        no   \n",
       "10083      no    no          no                  no        no   \n",
       "10082      no    no          no                  no        no   \n",
       "10094      no    no          no                  no       yes   \n",
       "0          no    no          no                  no        no   \n",
       "\n",
       "        age_60_and_above         test_indication  \n",
       "2742595              NaN                   Other  \n",
       "2742346              NaN                  Abroad  \n",
       "2742347              NaN                   Other  \n",
       "2742348              NaN                  Abroad  \n",
       "2742349              NaN                  Abroad  \n",
       "...                  ...                     ...  \n",
       "10084                 No                   Other  \n",
       "10083                 No                   Other  \n",
       "10082                 No                   Other  \n",
       "10094                 No  Contact with confirmed  \n",
       "0                     No                   Other  \n",
       "\n",
       "[2742596 rows x 7 columns]"
      ]
     },
     "execution_count": 41,
     "metadata": {},
     "output_type": "execute_result"
    }
   ],
   "source": [
    "# I droped gender because I used it before and has no effect on the model\n",
    "X = large_symptoms_df.drop(['test_date', 'corona_result', 'gender'], axis=1)\n",
    "X "
   ]
  },
  {
   "cell_type": "code",
   "execution_count": 42,
   "id": "fdcb6372-ec14-4057-8454-02d73cdbf084",
   "metadata": {},
   "outputs": [],
   "source": [
    "y = large_symptoms_df['corona_result']"
   ]
  },
  {
   "cell_type": "code",
   "execution_count": 43,
   "id": "325b556f-7fb7-45d3-9151-ac672f0cffb6",
   "metadata": {},
   "outputs": [],
   "source": [
    "X_train, X_test, y_train, y_test = train_test_split(X, y, test_size = 0.20, random_state = 42)\n"
   ]
  },
  {
   "cell_type": "code",
   "execution_count": 44,
   "id": "bc66921d-1f76-4ff4-b2e4-56e86264d116",
   "metadata": {},
   "outputs": [
    {
     "data": {
      "text/plain": [
       "((2194076, 7), (2194076,))"
      ]
     },
     "execution_count": 44,
     "metadata": {},
     "output_type": "execute_result"
    }
   ],
   "source": [
    "X_train.shape,  y_train.shape\n"
   ]
  },
  {
   "cell_type": "code",
   "execution_count": 45,
   "id": "043e007e-4e03-47f0-b552-648a92d2abbb",
   "metadata": {},
   "outputs": [
    {
     "data": {
      "text/plain": [
       "((548520, 7), (548520,))"
      ]
     },
     "execution_count": 45,
     "metadata": {},
     "output_type": "execute_result"
    }
   ],
   "source": [
    "X_test.shape, y_test.shape"
   ]
  },
  {
   "cell_type": "code",
   "execution_count": null,
   "id": "80f8110f-5555-4da5-8864-4fa7099d4e46",
   "metadata": {},
   "outputs": [],
   "source": []
  },
  {
   "cell_type": "code",
   "execution_count": 46,
   "id": "3dcdbe87-6d97-44c8-a3f2-fcf455f7745e",
   "metadata": {},
   "outputs": [],
   "source": [
    "# from sklearn.preprocessing import MinMaxScaler, StandardScaler\n",
    "from sklearn.preprocessing import OneHotEncoder\n",
    "# from sklearn.preprocessing import PolynomialFeatures\n",
    "from sklearn.pipeline import make_pipeline\n",
    "from sklearn.compose import ColumnTransformer\n",
    "from sklearn.impute import SimpleImputer"
   ]
  },
  {
   "cell_type": "code",
   "execution_count": null,
   "id": "762645c9-8df1-439e-8fd6-29a3df090ea0",
   "metadata": {},
   "outputs": [],
   "source": []
  },
  {
   "cell_type": "code",
   "execution_count": 48,
   "id": "01c60f9c-c953-440b-ae91-7398fd502a52",
   "metadata": {},
   "outputs": [],
   "source": [
    "cat_pipe = make_pipeline(\n",
    "    SimpleImputer(strategy='most_frequent'),\n",
    "    OneHotEncoder(sparse=False, handle_unknown='ignore')\n",
    ")"
   ]
  },
  {
   "cell_type": "code",
   "execution_count": 51,
   "id": "b2a2c99f-7274-465c-ae65-15d2fd3082e3",
   "metadata": {},
   "outputs": [],
   "source": [
    "\n",
    "feature_transformer = ColumnTransformer([\n",
    "#     ( 'not_needed', 'drop', ['test_indication']),\n",
    "    ('cat_preprocessing', cat_pipe, ['cough', 'fever', 'sore_throat', 'shortness_of_breath', 'head_ache','age_60_and_above', 'test_indication'])\n",
    "    \n",
    "    \n",
    "])"
   ]
  },
  {
   "cell_type": "code",
   "execution_count": 52,
   "id": "0079b327-b728-4766-8ab2-cdcdd5346588",
   "metadata": {},
   "outputs": [
    {
     "data": {
      "text/plain": [
       "array([[1., 0., 1., ..., 0., 0., 1.],\n",
       "       [1., 0., 1., ..., 0., 0., 1.],\n",
       "       [1., 0., 1., ..., 0., 0., 1.],\n",
       "       ...,\n",
       "       [1., 0., 1., ..., 0., 1., 0.],\n",
       "       [1., 0., 1., ..., 0., 0., 1.],\n",
       "       [1., 0., 1., ..., 0., 0., 1.]])"
      ]
     },
     "execution_count": 52,
     "metadata": {},
     "output_type": "execute_result"
    }
   ],
   "source": [
    "X_train_trans = feature_transformer.fit_transform(X_train)\n",
    "X_train_trans"
   ]
  },
  {
   "cell_type": "code",
   "execution_count": 53,
   "id": "f1456527-e136-4189-95e3-0baf45e5603a",
   "metadata": {},
   "outputs": [
    {
     "data": {
      "text/plain": [
       "(2194076, 15)"
      ]
     },
     "execution_count": 53,
     "metadata": {},
     "output_type": "execute_result"
    }
   ],
   "source": [
    "X_train_trans.shape"
   ]
  },
  {
   "cell_type": "code",
   "execution_count": 54,
   "id": "c12e95d0-a7f1-4510-8995-416c5eef17ab",
   "metadata": {},
   "outputs": [],
   "source": [
    "from sklearn.linear_model import LogisticRegression"
   ]
  },
  {
   "cell_type": "code",
   "execution_count": 55,
   "id": "012827fa-0fe0-4fd5-a767-a878ee3e288f",
   "metadata": {},
   "outputs": [],
   "source": [
    "m = LogisticRegression()"
   ]
  },
  {
   "cell_type": "code",
   "execution_count": 56,
   "id": "47d4f69c-c121-44b6-b3e2-6bbd3c097fc3",
   "metadata": {},
   "outputs": [
    {
     "data": {
      "text/plain": [
       "LogisticRegression()"
      ]
     },
     "execution_count": 56,
     "metadata": {},
     "output_type": "execute_result"
    }
   ],
   "source": [
    "m.fit(X_train_trans, y_train)"
   ]
  },
  {
   "cell_type": "code",
   "execution_count": 57,
   "id": "919225b4-f386-4439-9b85-353728cc0670",
   "metadata": {},
   "outputs": [
    {
     "data": {
      "text/plain": [
       "0.92"
      ]
     },
     "execution_count": 57,
     "metadata": {},
     "output_type": "execute_result"
    }
   ],
   "source": [
    "round(m.score(X_train_trans, y_train),2)"
   ]
  },
  {
   "cell_type": "code",
   "execution_count": 58,
   "id": "52a50cd7-6cee-4d44-a95d-697faa7d7d1c",
   "metadata": {},
   "outputs": [],
   "source": [
    "from sklearn.model_selection import cross_val_score"
   ]
  },
  {
   "cell_type": "code",
   "execution_count": 59,
   "id": "ad9efd57-9780-4a19-9b19-95717e44a581",
   "metadata": {},
   "outputs": [
    {
     "data": {
      "text/plain": [
       "array([0.91529024, 0.91577544, 0.9156934 , 0.91531055, 0.91494138])"
      ]
     },
     "execution_count": 59,
     "metadata": {},
     "output_type": "execute_result"
    }
   ],
   "source": [
    "cross_val_score(m, X_train_trans, y_train)"
   ]
  },
  {
   "cell_type": "code",
   "execution_count": 60,
   "id": "9f37a2bd-554e-4264-96ec-45bd293a4877",
   "metadata": {},
   "outputs": [],
   "source": [
    "X_test_trans = feature_transformer.transform(X_test) "
   ]
  },
  {
   "cell_type": "code",
   "execution_count": 61,
   "id": "d0f4dd26-015e-4c3c-8b87-882fe50029ef",
   "metadata": {},
   "outputs": [
    {
     "data": {
      "text/plain": [
       "0.92"
      ]
     },
     "execution_count": 61,
     "metadata": {},
     "output_type": "execute_result"
    }
   ],
   "source": [
    "round(m.score(X_test_trans, y_test),2)"
   ]
  },
  {
   "cell_type": "code",
   "execution_count": 62,
   "id": "de9eb1b2-2bd6-4e0f-9e3b-9ae112851afb",
   "metadata": {},
   "outputs": [],
   "source": [
    "# lets try another ML model"
   ]
  },
  {
   "cell_type": "code",
   "execution_count": 63,
   "id": "6de66095-8e9f-4fde-9e58-26a9fc2fe7a8",
   "metadata": {},
   "outputs": [],
   "source": [
    "from sklearn.ensemble import RandomForestClassifier"
   ]
  },
  {
   "cell_type": "code",
   "execution_count": 64,
   "id": "678ade51-cd00-4adf-ae70-91ca801e8329",
   "metadata": {},
   "outputs": [
    {
     "data": {
      "text/plain": [
       "RandomForestClassifier(max_depth=3)"
      ]
     },
     "execution_count": 64,
     "metadata": {},
     "output_type": "execute_result"
    }
   ],
   "source": [
    "RF_model = RandomForestClassifier(n_estimators=100, max_depth=3)\n",
    "RF_model.fit(X_train_trans, y_train)"
   ]
  },
  {
   "cell_type": "code",
   "execution_count": 65,
   "id": "89b7f7aa-2f88-4299-a27c-c8c43f8143de",
   "metadata": {},
   "outputs": [
    {
     "data": {
      "text/plain": [
       "0.92"
      ]
     },
     "execution_count": 65,
     "metadata": {},
     "output_type": "execute_result"
    }
   ],
   "source": [
    "round(RF_model.score(X_train_trans, y_train),2)"
   ]
  },
  {
   "cell_type": "code",
   "execution_count": 81,
   "id": "3f772535-cc2b-4dae-b5b2-f306ff37f86d",
   "metadata": {},
   "outputs": [
    {
     "data": {
      "text/plain": [
       "array([0.91549533, 0.91576405, 0.91711997, 0.91565238, 0.91658216])"
      ]
     },
     "execution_count": 81,
     "metadata": {},
     "output_type": "execute_result"
    }
   ],
   "source": [
    "cross_val_score(RF_model, X_train_trans, y_train)"
   ]
  },
  {
   "cell_type": "code",
   "execution_count": 66,
   "id": "398c489f-1328-461a-a80b-a8a294102aa9",
   "metadata": {},
   "outputs": [
    {
     "data": {
      "text/plain": [
       "0.92"
      ]
     },
     "execution_count": 66,
     "metadata": {},
     "output_type": "execute_result"
    }
   ],
   "source": [
    "round(RF_model.score(X_test_trans, y_test),2)"
   ]
  },
  {
   "cell_type": "code",
   "execution_count": 67,
   "id": "f50158e8-a80b-4d62-8eab-fc789a66e8bb",
   "metadata": {},
   "outputs": [
    {
     "data": {
      "text/plain": [
       "array([0.02147545, 0.02330713, 0.06631134, 0.08446014, 0.02002384,\n",
       "       0.04308106, 0.00354227, 0.00434007, 0.10529215, 0.11739616,\n",
       "       0.0007225 , 0.00080168, 0.00992449, 0.29689243, 0.20242928])"
      ]
     },
     "execution_count": 67,
     "metadata": {},
     "output_type": "execute_result"
    }
   ],
   "source": [
    "RF_model.feature_importances_"
   ]
  },
  {
   "cell_type": "code",
   "execution_count": 68,
   "id": "f2f038bd-4661-45f0-b819-8fe5d824a507",
   "metadata": {},
   "outputs": [
    {
     "data": {
      "text/plain": [
       "Index(['cough', 'fever', 'sore_throat', 'shortness_of_breath', 'head_ache',\n",
       "       'age_60_and_above', 'test_indication'],\n",
       "      dtype='object')"
      ]
     },
     "execution_count": 68,
     "metadata": {},
     "output_type": "execute_result"
    }
   ],
   "source": [
    "X.columns"
   ]
  },
  {
   "cell_type": "code",
   "execution_count": 70,
   "id": "4def4064-4d64-4f9c-9cf1-47c44e823678",
   "metadata": {},
   "outputs": [
    {
     "data": {
      "text/plain": [
       "<BarContainer object of 15 artists>"
      ]
     },
     "execution_count": 70,
     "metadata": {},
     "output_type": "execute_result"
    },
    {
     "data": {
      "image/png": "[encoded data removed]",
      "text/plain": [
       "<Figure size 432x288 with 1 Axes>"
      ]
     },
     "metadata": {
      "needs_background": "light"
     },
     "output_type": "display_data"
    }
   ],
   "source": [
    "plt.bar(x=range(15),height= RF_model.feature_importances_)"
   ]
  },
  {
   "cell_type": "code",
   "execution_count": 71,
   "id": "0caffb77-1d5f-4e5a-bc16-8f308bf64f95",
   "metadata": {},
   "outputs": [],
   "source": [
    "from sklearn.model_selection import GridSearchCV"
   ]
  },
  {
   "cell_type": "code",
   "execution_count": 72,
   "id": "59faddba-ceb6-45eb-8c75-ccf619c7362c",
   "metadata": {},
   "outputs": [
    {
     "data": {
      "text/plain": [
       "{'bootstrap': True,\n",
       " 'ccp_alpha': 0.0,\n",
       " 'class_weight': None,\n",
       " 'criterion': 'gini',\n",
       " 'max_depth': 3,\n",
       " 'max_features': 'auto',\n",
       " 'max_leaf_nodes': None,\n",
       " 'max_samples': None,\n",
       " 'min_impurity_decrease': 0.0,\n",
       " 'min_impurity_split': None,\n",
       " 'min_samples_leaf': 1,\n",
       " 'min_samples_split': 2,\n",
       " 'min_weight_fraction_leaf': 0.0,\n",
       " 'n_estimators': 100,\n",
       " 'n_jobs': None,\n",
       " 'oob_score': False,\n",
       " 'random_state': None,\n",
       " 'verbose': 0,\n",
       " 'warm_start': False}"
      ]
     },
     "execution_count": 72,
     "metadata": {},
     "output_type": "execute_result"
    }
   ],
   "source": [
    "RF_model.get_params()"
   ]
  },
  {
   "cell_type": "code",
   "execution_count": 73,
   "id": "0ec31c94-f3af-4896-b3c7-76715f74e215",
   "metadata": {},
   "outputs": [],
   "source": [
    "hyperparams = {\n",
    "    'n_estimators': [50,100,200,300], \n",
    "    'max_depth': [3,10,50,100],\n",
    "}"
   ]
  },
  {
   "cell_type": "code",
   "execution_count": 74,
   "id": "c1119ed2-4b2c-49c6-90e1-504bcb726025",
   "metadata": {},
   "outputs": [],
   "source": [
    "g = GridSearchCV(RF_model, hyperparams, cv = 5)"
   ]
  },
  {
   "cell_type": "code",
   "execution_count": 75,
   "id": "4b04f712-6aec-4f5f-9b37-7c62c26216e9",
   "metadata": {},
   "outputs": [
    {
     "data": {
      "text/plain": [
       "GridSearchCV(cv=5, estimator=RandomForestClassifier(max_depth=3),\n",
       "             param_grid={'max_depth': [3, 10, 50, 100],\n",
       "                         'n_estimators': [50, 100, 200, 300]})"
      ]
     },
     "execution_count": 75,
     "metadata": {},
     "output_type": "execute_result"
    }
   ],
   "source": [
    "g.fit(X_train_trans, y_train)"
   ]
  },
  {
   "cell_type": "code",
   "execution_count": 76,
   "id": "17482e12-5680-4b05-88ec-84a5494ed53f",
   "metadata": {},
   "outputs": [
    {
     "data": {
      "text/plain": [
       "RandomForestClassifier(max_depth=10, n_estimators=300)"
      ]
     },
     "execution_count": 76,
     "metadata": {},
     "output_type": "execute_result"
    }
   ],
   "source": [
    "g.best_estimator_"
   ]
  },
  {
   "cell_type": "code",
   "execution_count": 77,
   "id": "0e1050e2-15a2-4226-80e2-3f5919f7a7ec",
   "metadata": {},
   "outputs": [
    {
     "data": {
      "text/plain": [
       "{'max_depth': 10, 'n_estimators': 300}"
      ]
     },
     "execution_count": 77,
     "metadata": {},
     "output_type": "execute_result"
    }
   ],
   "source": [
    "g.best_params_"
   ]
  },
  {
   "cell_type": "code",
   "execution_count": 78,
   "id": "d007e8e4-621f-4e40-aabb-1fd1f6132f6b",
   "metadata": {},
   "outputs": [
    {
     "data": {
      "text/plain": [
       "0.9216152951598092"
      ]
     },
     "execution_count": 78,
     "metadata": {},
     "output_type": "execute_result"
    }
   ],
   "source": [
    "g.best_score_"
   ]
  },
  {
   "cell_type": "code",
   "execution_count": 79,
   "id": "de33b25e-bc16-493a-85c3-f83bd51b0a72",
   "metadata": {},
   "outputs": [
    {
     "data": {
      "text/plain": [
       "dict_keys(['mean_fit_time', 'std_fit_time', 'mean_score_time', 'std_score_time', 'param_max_depth', 'param_n_estimators', 'params', 'split0_test_score', 'split1_test_score', 'split2_test_score', 'split3_test_score', 'split4_test_score', 'mean_test_score', 'std_test_score', 'rank_test_score'])"
      ]
     },
     "execution_count": 79,
     "metadata": {},
     "output_type": "execute_result"
    }
   ],
   "source": [
    "g.cv_results_.keys()"
   ]
  },
  {
   "cell_type": "code",
   "execution_count": 88,
   "id": "53c51099-819d-4ac4-9d8e-a6ce25bb711e",
   "metadata": {},
   "outputs": [],
   "source": [
    "import joblib"
   ]
  },
  {
   "cell_type": "code",
   "execution_count": 89,
   "id": "b02bb680-d2a4-4266-a570-001ad1b2d27f",
   "metadata": {},
   "outputs": [
    {
     "data": {
      "text/plain": [
       "['model1_RF.pkl']"
      ]
     },
     "execution_count": 89,
     "metadata": {},
     "output_type": "execute_result"
    }
   ],
   "source": [
    "joblib.dump(g.best_estimator_, 'model1_RF.pkl')"
   ]
  },
  {
   "cell_type": "code",
   "execution_count": null,
   "id": "0ecdd907-b5db-4fb9-b644-5ab8ac861ab0",
   "metadata": {},
   "outputs": [],
   "source": [
    "with open('./model_RF.pkl', 'rb') as file:\n",
    "    model_RF = pickle.load(file)"
   ]
  },
  {
   "cell_type": "code",
   "execution_count": null,
   "id": "4c6eae67-a064-4b88-84d5-5b94b035b228",
   "metadata": {},
   "outputs": [],
   "source": [
    "# joblib.load(\"model_RF.pkl\")"
   ]
  },
  {
   "cell_type": "code",
   "execution_count": null,
   "id": "67fb6f95-6f66-41f3-9bcd-5f4297877196",
   "metadata": {},
   "outputs": [],
   "source": [
    "# model_RF= joblib.load(\"model_RF.pkl\")"
   ]
  },
  {
   "cell_type": "code",
   "execution_count": null,
   "id": "660b5143-d75d-4472-81a2-24c29eb634f2",
   "metadata": {},
   "outputs": [],
   "source": []
  },
  {
   "cell_type": "code",
   "execution_count": 103,
   "id": "5aa83810-e71d-4b04-8d28-220da7f00e79",
   "metadata": {},
   "outputs": [],
   "source": [
    "from sklearn.pipeline import Pipeline"
   ]
  },
  {
   "cell_type": "code",
   "execution_count": 137,
   "id": "8e736437-f3c7-41ea-9eb3-4550cbe11a2a",
   "metadata": {},
   "outputs": [],
   "source": [
    "rf_pipeline = Pipeline(steps = [\n",
    "    ('preprocessor', feature_transformer),\n",
    "    ('regressor', RandomForestClassifier(n_estimators=100, max_depth=3))\n",
    "])"
   ]
  },
  {
   "cell_type": "code",
   "execution_count": 138,
   "id": "9d6b3baa-ea2e-41c8-bb01-68327bc7a834",
   "metadata": {},
   "outputs": [
    {
     "data": {
      "text/plain": [
       "Pipeline(steps=[('preprocessor',\n",
       "                 ColumnTransformer(transformers=[('cat_preprocessing',\n",
       "                                                  Pipeline(steps=[('simpleimputer',\n",
       "                                                                   SimpleImputer(strategy='most_frequent')),\n",
       "                                                                  ('onehotencoder',\n",
       "                                                                   OneHotEncoder(handle_unknown='ignore',\n",
       "                                                                                 sparse=False))]),\n",
       "                                                  ['cough', 'fever',\n",
       "                                                   'sore_throat',\n",
       "                                                   'shortness_of_breath',\n",
       "                                                   'head_ache',\n",
       "                                                   'age_60_and_above',\n",
       "                                                   'test_indication'])])),\n",
       "                ('regressor', RandomForestClassifier(max_depth=3))])"
      ]
     },
     "execution_count": 138,
     "metadata": {},
     "output_type": "execute_result"
    }
   ],
   "source": [
    "rf_pipeline.fit(X_train, y_train)"
   ]
  },
  {
   "cell_type": "code",
   "execution_count": 139,
   "id": "d08ee1a5-e886-47d0-b9bf-21f1f6e272bb",
   "metadata": {},
   "outputs": [
    {
     "data": {
      "text/plain": [
       "0.92"
      ]
     },
     "execution_count": 139,
     "metadata": {},
     "output_type": "execute_result"
    }
   ],
   "source": [
    "round(rf_pipeline.score(X_train, y_train),2)"
   ]
  },
  {
   "cell_type": "code",
   "execution_count": 140,
   "id": "ba63a80f-8acd-4cb0-b319-be0b70327507",
   "metadata": {},
   "outputs": [
    {
     "data": {
      "text/plain": [
       "array([0.91529935, 0.91574126, 0.91593724, 0.91659127, 0.91519433])"
      ]
     },
     "execution_count": 140,
     "metadata": {},
     "output_type": "execute_result"
    }
   ],
   "source": [
    "cross_val_score(rf_pipeline, X_train, y_train)"
   ]
  },
  {
   "cell_type": "code",
   "execution_count": 141,
   "id": "903d9c4b-937a-4507-bf54-7cf2f1de6c07",
   "metadata": {},
   "outputs": [
    {
     "data": {
      "text/plain": [
       "0.92"
      ]
     },
     "execution_count": 141,
     "metadata": {},
     "output_type": "execute_result"
    }
   ],
   "source": [
    "round(rf_pipeline.score(X_test, y_test),2)"
   ]
  },
  {
   "cell_type": "code",
   "execution_count": 142,
   "id": "ed8a263d-4f3f-45c9-a4df-010363b6c229",
   "metadata": {},
   "outputs": [
    {
     "data": {
      "text/plain": [
       "['random_forest_pipeline2.pkl']"
      ]
     },
     "execution_count": 142,
     "metadata": {},
     "output_type": "execute_result"
    }
   ],
   "source": [
    "joblib.dump(rf_pipeline, 'random_forest_pipeline2.pkl')"
   ]
  },
  {
   "cell_type": "code",
   "execution_count": 143,
   "id": "cf5c9231-bac6-4f13-b695-81fc29503d65",
   "metadata": {},
   "outputs": [],
   "source": [
    "new_model= joblib.load(\"random_forest_pipeline2.pkl\")"
   ]
  },
  {
   "cell_type": "code",
   "execution_count": null,
   "id": "4561d3a2-2168-484d-9b3e-8560f43248b7",
   "metadata": {},
   "outputs": [],
   "source": [
    "\n",
    "# function for transfroming data for model_RF\n"
   ]
  },
  {
   "cell_type": "code",
   "execution_count": null,
   "id": "61f88a42-ad93-44fd-986d-42a25f2b7a67",
   "metadata": {},
   "outputs": [],
   "source": [
    "\n",
    "# cough ='yes'\n",
    "# fever ='yes'\n",
    "# sore_throat = 'yes'\n",
    "# shortness_of_breath = 'yes'\n",
    "# head_ache = 'no'\n",
    "# age_60_and_above = 'yes'\n",
    "# # gender =\n",
    "# test_indication = 'Other'\n",
    "\n",
    "# def convert_input_to_dataframe(cough, fever, sore_throat, shortness_of_breath, head_ache,\n",
    "#        age_60_and_above, gender, test_indication):\n",
    "#     '''\n",
    "#     function to conver the input data of users into a dataframe that can be used to predict outcome\n",
    "#     '''\n",
    "#     user_input = {\n",
    "#     'cough': cough, \n",
    "#     'fever': fever,\n",
    "#     'sore_throat': sore_throat,\n",
    "#     'shortness_of_breath': shortness_of_breath,\n",
    "#     'head_ache': head_ache,\n",
    "#     'age_60_and_above': age_60_and_above, \n",
    "#     'test_indication': test_indication\n",
    "#     } \n",
    "#     dataframe = pd.DataFrame([user_input])\n",
    "#     return dataframe\n",
    "    \n",
    "\n",
    "# def predict_symptoms_outcome(dataframe):\n",
    "#     '''\n",
    "#     This function loads the model random forest model of symptoms and predict using user dataframe\n",
    "#     '''\n",
    "#     model_RF= joblib.load(\"model_RF.pkl\")\n",
    "#     predicted_symptoms = model_RF.predict(transformed_array)\n",
    "#     return predicted_symptoms\n",
    "    \n",
    "\n"
   ]
  },
  {
   "cell_type": "code",
   "execution_count": 144,
   "id": "a6aea65c-5430-454c-babd-d83c7bcc3c0e",
   "metadata": {},
   "outputs": [],
   "source": [
    "\n",
    "def convert_symptoms_to_dataframe(cough, fever, sore_throat, shortness_of_breath, head_ache,\n",
    "       age_60_and_above, test_indication):\n",
    "    '''\n",
    "    function to conver the input data of users into a dataframe that can be used to predict outcome\n",
    "    '''\n",
    "    user_input = {\n",
    "    'cough': cough, \n",
    "    'fever': fever,\n",
    "    'sore_throat': sore_throat,\n",
    "    'shortness_of_breath': shortness_of_breath,\n",
    "    'head_ache': head_ache,\n",
    "    'age_60_and_above': age_60_and_above, \n",
    "    'test_indication': test_indication\n",
    "    } \n",
    "    dataframe = pd.DataFrame([user_input])\n",
    "    return dataframe"
   ]
  },
  {
   "cell_type": "code",
   "execution_count": 161,
   "id": "a8e389b1-1cd1-4f63-adb7-ffb00c864ef2",
   "metadata": {},
   "outputs": [],
   "source": [
    "cough = 'no'\n",
    "fever = 'yes'\n",
    "sore_throat = 'no'\n",
    "shortness_of_breath = 'no'\n",
    "head_ache = 'no'\n",
    "age_60_and_above = 'no'\n",
    "test_indication = 'Contact with confirmed'\n"
   ]
  },
  {
   "cell_type": "code",
   "execution_count": 162,
   "id": "ea3c8bc8-0074-4591-9aae-27f30e89bc0b",
   "metadata": {},
   "outputs": [
    {
     "data": {
      "text/html": [
       "<div>\n",
       "<style scoped>\n",
       "    .dataframe tbody tr th:only-of-type {\n",
       "        vertical-align: middle;\n",
       "    }\n",
       "\n",
       "    .dataframe tbody tr th {\n",
       "        vertical-align: top;\n",
       "    }\n",
       "\n",
       "    .dataframe thead th {\n",
       "        text-align: right;\n",
       "    }\n",
       "</style>\n",
       "<table border=\"1\" class=\"dataframe\">\n",
       "  <thead>\n",
       "    <tr style=\"text-align: right;\">\n",
       "      <th></th>\n",
       "      <th>cough</th>\n",
       "      <th>fever</th>\n",
       "      <th>sore_throat</th>\n",
       "      <th>shortness_of_breath</th>\n",
       "      <th>head_ache</th>\n",
       "      <th>age_60_and_above</th>\n",
       "      <th>test_indication</th>\n",
       "    </tr>\n",
       "  </thead>\n",
       "  <tbody>\n",
       "    <tr>\n",
       "      <th>0</th>\n",
       "      <td>no</td>\n",
       "      <td>yes</td>\n",
       "      <td>no</td>\n",
       "      <td>no</td>\n",
       "      <td>no</td>\n",
       "      <td>no</td>\n",
       "      <td>Contact with confirmed</td>\n",
       "    </tr>\n",
       "  </tbody>\n",
       "</table>\n",
       "</div>"
      ],
      "text/plain": [
       "  cough fever sore_throat shortness_of_breath head_ache age_60_and_above  \\\n",
       "0    no   yes          no                  no        no               no   \n",
       "\n",
       "          test_indication  \n",
       "0  Contact with confirmed  "
      ]
     },
     "execution_count": 162,
     "metadata": {},
     "output_type": "execute_result"
    }
   ],
   "source": [
    "df=convert_symptoms_to_dataframe(cough, fever, sore_throat, shortness_of_breath, head_ache,\n",
    "       age_60_and_above, test_indication)\n",
    "df"
   ]
  },
  {
   "cell_type": "code",
   "execution_count": 163,
   "id": "75f2468b-0e21-49eb-9849-dac7b361f195",
   "metadata": {},
   "outputs": [],
   "source": [
    "result = new_model.predict(df)"
   ]
  },
  {
   "cell_type": "code",
   "execution_count": 164,
   "id": "db61f29a-d580-470d-a0f5-d2a2fa172eae",
   "metadata": {},
   "outputs": [
    {
     "data": {
      "text/plain": [
       "'positive'"
      ]
     },
     "execution_count": 164,
     "metadata": {},
     "output_type": "execute_result"
    }
   ],
   "source": [
    "result[0]"
   ]
  },
  {
   "cell_type": "code",
   "execution_count": 135,
   "id": "f15b33dc-f231-4305-ae30-4fdfe399de91",
   "metadata": {},
   "outputs": [
    {
     "ename": "AttributeError",
     "evalue": "'Pipeline' object has no attribute 'feature_importances_'",
     "output_type": "error",
     "traceback": [
      "\u001b[0;31m------------------------------------------\u001b[0m",
      "\u001b[0;31mAttributeError\u001b[0mTraceback (most recent call last)",
      "\u001b[0;32m<ipython-input-135-f243113c5888>\u001b[0m in \u001b[0;36m<module>\u001b[0;34m\u001b[0m\n\u001b[0;32m----> 1\u001b[0;31m \u001b[0mnew_model\u001b[0m\u001b[0;34m.\u001b[0m\u001b[0mfeature_importances_\u001b[0m\u001b[0;34m\u001b[0m\u001b[0;34m\u001b[0m\u001b[0m\n\u001b[0m",
      "\u001b[0;31mAttributeError\u001b[0m: 'Pipeline' object has no attribute 'feature_importances_'"
     ]
    }
   ],
   "source": []
  },
  {
   "cell_type": "code",
   "execution_count": null,
   "id": "3287c2bc-5505-4570-90ed-8cf5fb2f99e1",
   "metadata": {},
   "outputs": [],
   "source": []
  }
 ],
 "metadata": {
  "kernelspec": {
   "display_name": "Python 3.8.8 64-bit ('base': conda)",
   "language": "python",
   "name": "python388jvsc74a57bd05ca237d6b8e07292565a7f9c8b38b7a5a6ec2babb4e1173ac4c3d8a65b231884"
  },
  "language_info": {
   "codemirror_mode": {
    "name": "ipython",
    "version": 3
   },
   "file_extension": ".py",
   "mimetype": "text/x-python",
   "name": "python",
   "nbconvert_exporter": "python",
   "pygments_lexer": "ipython3",
   "version": "3.8.8"
  }
 },
 "nbformat": 4,
 "nbformat_minor": 5
}
